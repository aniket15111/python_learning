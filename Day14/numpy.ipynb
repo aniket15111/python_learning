{
 "cells": [
  {
   "cell_type": "code",
   "execution_count": 5,
   "id": "d5210e2b",
   "metadata": {},
   "outputs": [],
   "source": [
    "import numpy as np"
   ]
  },
  {
   "cell_type": "markdown",
   "id": "3f772b93",
   "metadata": {},
   "source": [
    "# Numpy arrays"
   ]
  },
  {
   "cell_type": "code",
   "execution_count": 9,
   "id": "82e2a92e",
   "metadata": {},
   "outputs": [],
   "source": [
    "arr=np.array([1,2,3,4,5])"
   ]
  },
  {
   "cell_type": "code",
   "execution_count": 10,
   "id": "1600bc9e",
   "metadata": {},
   "outputs": [
    {
     "data": {
      "text/plain": [
       "array([1, 2, 3, 4, 5])"
      ]
     },
     "execution_count": 10,
     "metadata": {},
     "output_type": "execute_result"
    }
   ],
   "source": [
    "arr"
   ]
  },
  {
   "cell_type": "code",
   "execution_count": 11,
   "id": "7d6a94d5",
   "metadata": {},
   "outputs": [
    {
     "data": {
      "text/plain": [
       "numpy.ndarray"
      ]
     },
     "execution_count": 11,
     "metadata": {},
     "output_type": "execute_result"
    }
   ],
   "source": [
    "type(arr)"
   ]
  },
  {
   "cell_type": "code",
   "execution_count": 12,
   "id": "c65d9c4f",
   "metadata": {},
   "outputs": [],
   "source": [
    "a = np.array(42)\n",
    "b = np.array([1, 2, 3, 4, 5])\n",
    "c = np.array([[1, 2, 3], [4, 5, 6]])\n",
    "d = np.array([[[1, 2, 3], [4, 5, 6]], [[1, 2, 3], [4, 5, 6]]])"
   ]
  },
  {
   "cell_type": "code",
   "execution_count": 16,
   "id": "c4d6ebb0",
   "metadata": {},
   "outputs": [
    {
     "name": "stdout",
     "output_type": "stream",
     "text": [
      "0\n",
      "1\n",
      "2\n",
      "3\n"
     ]
    }
   ],
   "source": [
    "print(a.ndim)\n",
    "print(b.ndim)\n",
    "print(c.ndim)\n",
    "print(d.ndim)"
   ]
  },
  {
   "cell_type": "code",
   "execution_count": 26,
   "id": "b682fcfe",
   "metadata": {},
   "outputs": [
    {
     "data": {
      "text/plain": [
       "array([[[1, 2],\n",
       "        [3, 4]],\n",
       "\n",
       "       [[5, 6],\n",
       "        [7, 8]]])"
      ]
     },
     "execution_count": 26,
     "metadata": {},
     "output_type": "execute_result"
    }
   ],
   "source": [
    "e = np.array([[[1, 2], [3, 4]],[[5,6],[7,8]]], ndmin=0)\n",
    "e\n"
   ]
  },
  {
   "cell_type": "code",
   "execution_count": 27,
   "id": "01a16da1",
   "metadata": {},
   "outputs": [
    {
     "data": {
      "text/plain": [
       "(2, 2, 2)"
      ]
     },
     "execution_count": 27,
     "metadata": {},
     "output_type": "execute_result"
    }
   ],
   "source": [
    "e.shape"
   ]
  },
  {
   "cell_type": "code",
   "execution_count": 28,
   "id": "8ea74a96",
   "metadata": {},
   "outputs": [
    {
     "name": "stdout",
     "output_type": "stream",
     "text": [
      "2nd element on 1st row:  2\n"
     ]
    }
   ],
   "source": [
    "arr = np.array([[1,2,3,4,5], [6,7,8,9,10]])\n",
    "\n",
    "print('2nd element on 1st row: ', arr[0, 1])"
   ]
  },
  {
   "cell_type": "markdown",
   "id": "fcb8beed",
   "metadata": {},
   "source": [
    "## Data types in numpy\n",
    "#### strings - used to represent text data, the text is given under quote marks. e.g. \"ABCD\"\n",
    "#### integer - used to represent integer numbers. e.g. -1, -2, -3\n",
    "#### float - used to represent real numbers. e.g. 1.2, 42.42\n",
    "#### boolean - used to represent True or False.\n",
    "#### complex - used to represent complex numbers. e.g. 1.0 + 2.0j, 1.5 + 2.5j"
   ]
  },
  {
   "cell_type": "code",
   "execution_count": 30,
   "id": "1457a20a",
   "metadata": {},
   "outputs": [
    {
     "name": "stdout",
     "output_type": "stream",
     "text": [
      "[b'1' b'2' b'3' b'4']\n",
      "|S1\n"
     ]
    }
   ],
   "source": [
    "arr = np.array([1, 2, 3, 4], dtype='S')\n",
    "\n",
    "print(arr)\n",
    "print(arr.dtype)"
   ]
  },
  {
   "cell_type": "code",
   "execution_count": 35,
   "id": "2df4e458",
   "metadata": {},
   "outputs": [
    {
     "data": {
      "text/plain": [
       "array([1, 2, 3, 4], dtype=int32)"
      ]
     },
     "execution_count": 35,
     "metadata": {},
     "output_type": "execute_result"
    }
   ],
   "source": [
    "arr = np.array([1.1, 2.2, 3.3, 4.4])\n",
    "arr.astype('i')"
   ]
  },
  {
   "cell_type": "markdown",
   "id": "5bda5e71",
   "metadata": {},
   "source": [
    "### Copy vs View"
   ]
  },
  {
   "cell_type": "code",
   "execution_count": null,
   "id": "d572c809",
   "metadata": {},
   "outputs": [
    {
     "name": "stdout",
     "output_type": "stream",
     "text": [
      "[42  2  3  4  5]\n",
      "[1 2 3 4 5]\n"
     ]
    }
   ],
   "source": [
    "arr = np.array([1, 2, 3, 4, 5])\n",
    "x = arr.copy()\n",
    "arr[0] = 42\n",
    "\n",
    "print(arr)\n",
    "print(x)"
   ]
  },
  {
   "cell_type": "code",
   "execution_count": 39,
   "id": "c61ad378",
   "metadata": {},
   "outputs": [
    {
     "name": "stdout",
     "output_type": "stream",
     "text": [
      "[42 40  3  4  5]\n",
      "[42 40  3  4  5]\n"
     ]
    }
   ],
   "source": [
    "arr = np.array([1, 2, 3, 4, 5])\n",
    "x = arr.view()\n",
    "arr[0] = 42\n",
    "x[1]=40\n",
    "print(arr)\n",
    "print(x)"
   ]
  },
  {
   "cell_type": "code",
   "execution_count": 40,
   "id": "37b1fcd2",
   "metadata": {},
   "outputs": [
    {
     "name": "stdout",
     "output_type": "stream",
     "text": [
      "None\n",
      "[1 2 3 4 5]\n"
     ]
    }
   ],
   "source": [
    "arr = np.array([1, 2, 3, 4, 5])\n",
    "\n",
    "x = arr.copy()\n",
    "y = arr.view()\n",
    "\n",
    "print(x.base)\n",
    "print(y.base)"
   ]
  },
  {
   "cell_type": "markdown",
   "id": "c2c15b60",
   "metadata": {},
   "source": [
    "### Shape"
   ]
  },
  {
   "cell_type": "code",
   "execution_count": 43,
   "id": "3eafdb98",
   "metadata": {},
   "outputs": [
    {
     "data": {
      "text/plain": [
       "(2, 4)"
      ]
     },
     "execution_count": 43,
     "metadata": {},
     "output_type": "execute_result"
    }
   ],
   "source": [
    "arr = np.array([[1, 2, 3, 4], [5, 6, 7, 8]])\n",
    "\n",
    "arr.shape"
   ]
  },
  {
   "cell_type": "code",
   "execution_count": 44,
   "id": "514e3276",
   "metadata": {},
   "outputs": [
    {
     "name": "stdout",
     "output_type": "stream",
     "text": [
      "[[[[[1 2 3 4]]]]]\n",
      "shape of array : (1, 1, 1, 1, 4)\n"
     ]
    }
   ],
   "source": [
    "arr = np.array([1, 2, 3, 4], ndmin=5)\n",
    "\n",
    "print(arr)\n",
    "print('shape of array :', arr.shape)"
   ]
  },
  {
   "cell_type": "markdown",
   "id": "55d99e42",
   "metadata": {},
   "source": [
    "### Reshape"
   ]
  },
  {
   "cell_type": "code",
   "execution_count": 48,
   "id": "b9e84cd2",
   "metadata": {},
   "outputs": [
    {
     "data": {
      "text/plain": [
       "array([[ 1,  2,  3],\n",
       "       [ 4,  5,  6],\n",
       "       [ 7,  8,  9],\n",
       "       [10, 11, 12]])"
      ]
     },
     "execution_count": 48,
     "metadata": {},
     "output_type": "execute_result"
    }
   ],
   "source": [
    "arr = np.array([1, 2, 3, 4, 5, 6, 7, 8, 9, 10, 11, 12])\n",
    "newarr=arr.reshape(4,3)\n",
    "newarr"
   ]
  },
  {
   "cell_type": "code",
   "execution_count": 49,
   "id": "d76c1192",
   "metadata": {},
   "outputs": [
    {
     "data": {
      "text/plain": [
       "array([[[ 1,  2],\n",
       "        [ 3,  4],\n",
       "        [ 5,  6]],\n",
       "\n",
       "       [[ 7,  8],\n",
       "        [ 9, 10],\n",
       "        [11, 12]]])"
      ]
     },
     "execution_count": 49,
     "metadata": {},
     "output_type": "execute_result"
    }
   ],
   "source": [
    "newarr=arr.reshape(2,3,2)\n",
    "newarr\n"
   ]
  },
  {
   "cell_type": "code",
   "execution_count": 52,
   "id": "575d057c",
   "metadata": {},
   "outputs": [
    {
     "data": {
      "text/plain": [
       "array([ 1,  2,  3,  4,  5,  6,  7,  8,  9, 10, 11, 12])"
      ]
     },
     "execution_count": 52,
     "metadata": {},
     "output_type": "execute_result"
    }
   ],
   "source": [
    "arr = np.array([[1, 2, 3, 4, 5, 6], [7, 8, 9, 10, 11, 12]])\n",
    "\n",
    "newarr = arr.reshape(-1)\n",
    "newarr\n"
   ]
  },
  {
   "cell_type": "markdown",
   "id": "bd07e794",
   "metadata": {},
   "source": [
    "### iterating"
   ]
  },
  {
   "cell_type": "code",
   "execution_count": 53,
   "id": "4c606b9a",
   "metadata": {},
   "outputs": [
    {
     "name": "stdout",
     "output_type": "stream",
     "text": [
      "1\n",
      "2\n",
      "3\n"
     ]
    }
   ],
   "source": [
    "arr = np.array([1, 2, 3])\n",
    "\n",
    "for x in arr:\n",
    "  print(x)\n"
   ]
  },
  {
   "cell_type": "markdown",
   "id": "70fc2675",
   "metadata": {},
   "source": [
    "### iterating for 2d array"
   ]
  },
  {
   "cell_type": "code",
   "execution_count": null,
   "id": "31ff5bc2",
   "metadata": {},
   "outputs": [
    {
     "name": "stdout",
     "output_type": "stream",
     "text": [
      "1\n",
      "2\n",
      "3\n",
      "4\n",
      "5\n",
      "6\n",
      "7\n",
      "8\n",
      "9\n",
      "10\n",
      "11\n",
      "12\n"
     ]
    }
   ],
   "source": [
    "arr = np.array([[1, 2, 3, 4, 5, 6], [7, 8, 9, 10, 11, 12]])\n",
    "for i in arr:\n",
    "    for j in i:\n",
    "        print (j)"
   ]
  },
  {
   "cell_type": "code",
   "execution_count": 57,
   "id": "d6120d91",
   "metadata": {},
   "outputs": [
    {
     "name": "stdout",
     "output_type": "stream",
     "text": [
      "[1 2 3 4 5 6]\n",
      "[ 7  8  9 10 11 12]\n"
     ]
    }
   ],
   "source": [
    "for i in arr:\n",
    "    print (i)"
   ]
  },
  {
   "cell_type": "markdown",
   "id": "322989ee",
   "metadata": {},
   "source": [
    "### using nditer"
   ]
  },
  {
   "cell_type": "code",
   "execution_count": 58,
   "id": "d1513d24",
   "metadata": {},
   "outputs": [
    {
     "name": "stdout",
     "output_type": "stream",
     "text": [
      "1\n",
      "2\n",
      "3\n",
      "4\n",
      "5\n",
      "6\n",
      "7\n",
      "8\n",
      "9\n",
      "10\n",
      "11\n",
      "12\n"
     ]
    }
   ],
   "source": [
    "for i in np.nditer(arr):\n",
    "    print(i)"
   ]
  },
  {
   "cell_type": "code",
   "execution_count": 59,
   "id": "975be64c",
   "metadata": {},
   "outputs": [
    {
     "name": "stdout",
     "output_type": "stream",
     "text": [
      "b'1'\n",
      "b'2'\n",
      "b'3'\n",
      "b'4'\n",
      "b'5'\n",
      "b'6'\n",
      "b'7'\n",
      "b'8'\n",
      "b'9'\n",
      "b'10'\n",
      "b'11'\n",
      "b'12'\n"
     ]
    }
   ],
   "source": [
    "for x in np.nditer(arr, flags=['buffered'], op_dtypes=['S']):\n",
    "  print(x)"
   ]
  },
  {
   "cell_type": "code",
   "execution_count": 61,
   "id": "6885098e",
   "metadata": {},
   "outputs": [
    {
     "name": "stdout",
     "output_type": "stream",
     "text": [
      "1\n",
      "3\n",
      "5\n",
      "7\n",
      "9\n",
      "11\n"
     ]
    }
   ],
   "source": [
    "for i in np.nditer(arr[:,::2]):\n",
    "    print (i)"
   ]
  },
  {
   "cell_type": "code",
   "execution_count": 64,
   "id": "b9e92c40",
   "metadata": {},
   "outputs": [
    {
     "name": "stdout",
     "output_type": "stream",
     "text": [
      "(0, 0) 1\n",
      "(0, 1) 2\n",
      "(0, 2) 3\n",
      "(0, 3) 4\n",
      "(0, 4) 5\n",
      "(0, 5) 6\n",
      "(1, 0) 7\n",
      "(1, 1) 8\n",
      "(1, 2) 9\n",
      "(1, 3) 10\n",
      "(1, 4) 11\n",
      "(1, 5) 12\n"
     ]
    }
   ],
   "source": [
    "\n",
    "arr = np.array([[1, 2, 3, 4, 5, 6], [7, 8, 9, 10, 11, 12]])\n",
    "\n",
    "for idx,i in np.ndenumerate(arr):\n",
    "    print (idx,i)"
   ]
  },
  {
   "cell_type": "markdown",
   "id": "caea5ca2",
   "metadata": {},
   "source": [
    "## Join"
   ]
  },
  {
   "cell_type": "code",
   "execution_count": 65,
   "id": "446ea843",
   "metadata": {},
   "outputs": [
    {
     "name": "stdout",
     "output_type": "stream",
     "text": [
      "[1 2 3 4 5 6]\n"
     ]
    }
   ],
   "source": [
    "arr1 = np.array([1, 2, 3])\n",
    "\n",
    "arr2 = np.array([4, 5, 6])\n",
    "\n",
    "arr = np.concatenate((arr1, arr2))\n",
    "\n",
    "print(arr)"
   ]
  },
  {
   "cell_type": "code",
   "execution_count": 68,
   "id": "6f6f894e",
   "metadata": {},
   "outputs": [
    {
     "name": "stdout",
     "output_type": "stream",
     "text": [
      "[[1 2 5 6]\n",
      " [3 4 7 8]]\n"
     ]
    }
   ],
   "source": [
    "arr1 = np.array([[1, 2], [3, 4]])\n",
    "\n",
    "arr2 = np.array([[5, 6], [7, 8]])\n",
    "\n",
    "arr=np.concatenate((arr1,arr2),axis=1)\n",
    "\n",
    "print(arr)"
   ]
  },
  {
   "cell_type": "code",
   "execution_count": 73,
   "id": "100ea299",
   "metadata": {},
   "outputs": [
    {
     "name": "stdout",
     "output_type": "stream",
     "text": [
      "[[1 2 3]\n",
      " [4 5 6]]\n"
     ]
    }
   ],
   "source": [
    "arr1 = np.array([1, 2, 3])\n",
    "\n",
    "arr2 = np.array([4, 5, 6])\n",
    "\n",
    "arr = np.stack((arr1, arr2),axis=0)\n",
    "\n",
    "print(arr)"
   ]
  },
  {
   "cell_type": "code",
   "execution_count": 74,
   "id": "07b5c765",
   "metadata": {},
   "outputs": [
    {
     "name": "stdout",
     "output_type": "stream",
     "text": [
      "[1 2 3 4 5 6]\n"
     ]
    }
   ],
   "source": [
    "arr1 = np.array([1, 2, 3])\n",
    "\n",
    "arr2 = np.array([4, 5, 6])\n",
    "\n",
    "arr = np.hstack((arr1, arr2))\n",
    "\n",
    "print(arr)"
   ]
  },
  {
   "cell_type": "code",
   "execution_count": 75,
   "id": "13ca03a1",
   "metadata": {},
   "outputs": [
    {
     "name": "stdout",
     "output_type": "stream",
     "text": [
      "[[1 2 3]\n",
      " [4 5 6]]\n"
     ]
    }
   ],
   "source": [
    "arr1 = np.array([1, 2, 3])\n",
    "\n",
    "arr2 = np.array([4, 5, 6])\n",
    "\n",
    "arr = np.vstack((arr1, arr2))\n",
    "\n",
    "print(arr)"
   ]
  },
  {
   "cell_type": "code",
   "execution_count": 76,
   "id": "9e5bcf1e",
   "metadata": {},
   "outputs": [
    {
     "name": "stdout",
     "output_type": "stream",
     "text": [
      "[[[1 4]\n",
      "  [2 5]\n",
      "  [3 6]]]\n"
     ]
    }
   ],
   "source": [
    "arr1 = np.array([1, 2, 3])\n",
    "\n",
    "arr2 = np.array([4, 5, 6])\n",
    "\n",
    "arr = np.dstack((arr1, arr2))\n",
    "\n",
    "print(arr)"
   ]
  },
  {
   "cell_type": "markdown",
   "id": "e6a3ca4e",
   "metadata": {},
   "source": [
    "## Split"
   ]
  },
  {
   "cell_type": "code",
   "execution_count": 77,
   "id": "b87dce2b",
   "metadata": {},
   "outputs": [
    {
     "name": "stdout",
     "output_type": "stream",
     "text": [
      "[array([1, 2]), array([3, 4]), array([5, 6])]\n"
     ]
    }
   ],
   "source": [
    "arr = np.array([1, 2, 3, 4, 5, 6])\n",
    "\n",
    "newarr = np.array_split(arr, 3)\n",
    "\n",
    "print(newarr)"
   ]
  },
  {
   "cell_type": "code",
   "execution_count": 78,
   "id": "5295ced0",
   "metadata": {},
   "outputs": [
    {
     "name": "stdout",
     "output_type": "stream",
     "text": [
      "[array([[ 1],\n",
      "       [ 4],\n",
      "       [ 7],\n",
      "       [10],\n",
      "       [13],\n",
      "       [16]]), array([[ 2],\n",
      "       [ 5],\n",
      "       [ 8],\n",
      "       [11],\n",
      "       [14],\n",
      "       [17]]), array([[ 3],\n",
      "       [ 6],\n",
      "       [ 9],\n",
      "       [12],\n",
      "       [15],\n",
      "       [18]])]\n"
     ]
    }
   ],
   "source": [
    "arr = np.array([[1, 2, 3], [4, 5, 6], [7, 8, 9], [10, 11, 12], [13, 14, 15], [16, 17, 18]])\n",
    "\n",
    "newarr = np.hsplit(arr, 3)\n",
    "\n",
    "print(newarr)"
   ]
  },
  {
   "cell_type": "markdown",
   "id": "97a67d8b",
   "metadata": {},
   "source": [
    "### Search"
   ]
  },
  {
   "cell_type": "code",
   "execution_count": 82,
   "id": "54db2f04",
   "metadata": {},
   "outputs": [
    {
     "data": {
      "text/plain": [
       "(array([2, 6, 7, 8], dtype=int64),)"
      ]
     },
     "execution_count": 82,
     "metadata": {},
     "output_type": "execute_result"
    }
   ],
   "source": [
    "arr=np.array([1,2,3,4,5,6,3,3,3])\n",
    "x=np.where(arr==3)\n",
    "x"
   ]
  },
  {
   "cell_type": "markdown",
   "id": "ecab8991",
   "metadata": {},
   "source": [
    "## Sorted search "
   ]
  },
  {
   "cell_type": "code",
   "execution_count": 84,
   "id": "c7cc5b3f",
   "metadata": {},
   "outputs": [
    {
     "data": {
      "text/plain": [
       "6"
      ]
     },
     "execution_count": 84,
     "metadata": {},
     "output_type": "execute_result"
    }
   ],
   "source": [
    "arr=np.array([1,2,3,4,5,6,8,9,10])\n",
    "x=np.searchsorted(arr,7)\n",
    "x"
   ]
  },
  {
   "cell_type": "code",
   "execution_count": 85,
   "id": "0961d67b",
   "metadata": {},
   "outputs": [
    {
     "data": {
      "text/plain": [
       "array([3, 4, 5, 7], dtype=int64)"
      ]
     },
     "execution_count": 85,
     "metadata": {},
     "output_type": "execute_result"
    }
   ],
   "source": [
    "x=np.searchsorted(arr,[4,5,6,9])\n",
    "x"
   ]
  },
  {
   "cell_type": "code",
   "execution_count": 86,
   "id": "8743a0a8",
   "metadata": {},
   "outputs": [
    {
     "name": "stdout",
     "output_type": "stream",
     "text": [
      "(array([0, 2], dtype=int64),)\n"
     ]
    }
   ],
   "source": [
    "arr = np.array([15, 38, 41, 46])\n",
    "x = np.where(arr%2 == 1)\n",
    "print(x)\n"
   ]
  },
  {
   "cell_type": "markdown",
   "id": "25e4f2b3",
   "metadata": {},
   "source": [
    "## Sorting"
   ]
  },
  {
   "cell_type": "code",
   "execution_count": 87,
   "id": "43e07c09",
   "metadata": {},
   "outputs": [
    {
     "name": "stdout",
     "output_type": "stream",
     "text": [
      "[0 1 2 3]\n"
     ]
    }
   ],
   "source": [
    "arr = np.array([3, 2, 0, 1])\n",
    "\n",
    "print(np.sort(arr))"
   ]
  },
  {
   "cell_type": "code",
   "execution_count": 88,
   "id": "531f8cdb",
   "metadata": {},
   "outputs": [
    {
     "name": "stdout",
     "output_type": "stream",
     "text": [
      "[[2 3 4]\n",
      " [0 1 5]]\n"
     ]
    }
   ],
   "source": [
    "arr = np.array([[3, 2, 4], [5, 0, 1]])\n",
    "\n",
    "print(np.sort(arr))"
   ]
  },
  {
   "cell_type": "markdown",
   "id": "084bce58",
   "metadata": {},
   "source": [
    "## Filter -> In numpy, filter is used in boolean index list"
   ]
  },
  {
   "cell_type": "code",
   "execution_count": 90,
   "id": "c9f8715d",
   "metadata": {},
   "outputs": [
    {
     "data": {
      "text/plain": [
       "array([3, 1])"
      ]
     },
     "execution_count": 90,
     "metadata": {},
     "output_type": "execute_result"
    }
   ],
   "source": [
    "arr = np.array([3, 2, 0, 1])\n",
    "blist=[True,False,False,True]\n",
    "x=arr[blist]\n",
    "x"
   ]
  },
  {
   "cell_type": "markdown",
   "id": "30dcc740",
   "metadata": {},
   "source": [
    "## Random number in array"
   ]
  },
  {
   "cell_type": "code",
   "execution_count": 101,
   "id": "a35a8bdf",
   "metadata": {},
   "outputs": [
    {
     "data": {
      "text/plain": [
       "array([0.18303257, 0.52441772, 0.88566055, 0.44011038, 0.85175098])"
      ]
     },
     "execution_count": 101,
     "metadata": {},
     "output_type": "execute_result"
    }
   ],
   "source": [
    "x=np.random.rand(5)\n",
    "x"
   ]
  },
  {
   "cell_type": "code",
   "execution_count": 102,
   "id": "6446b87e",
   "metadata": {},
   "outputs": [],
   "source": [
    "from numpy import random"
   ]
  },
  {
   "cell_type": "code",
   "execution_count": 105,
   "id": "952b0dc4",
   "metadata": {},
   "outputs": [
    {
     "data": {
      "text/plain": [
       "array([43, 65, 35, 28, 23, 72, 17, 68, 18, 46])"
      ]
     },
     "execution_count": 105,
     "metadata": {},
     "output_type": "execute_result"
    }
   ],
   "source": [
    "x=random.randint(100,size=10)\n",
    "x"
   ]
  },
  {
   "cell_type": "code",
   "execution_count": 107,
   "id": "b68404e0",
   "metadata": {},
   "outputs": [
    {
     "data": {
      "text/plain": [
       "array([[20, 93, 63],\n",
       "       [89, 60, 33],\n",
       "       [64,  4, 24]])"
      ]
     },
     "execution_count": 107,
     "metadata": {},
     "output_type": "execute_result"
    }
   ],
   "source": [
    "x=random.randint(100,size=(3,3))\n",
    "x\n"
   ]
  },
  {
   "cell_type": "code",
   "execution_count": 109,
   "id": "85b2a68a",
   "metadata": {},
   "outputs": [
    {
     "data": {
      "text/plain": [
       "array([[0.38278903, 0.85429828, 0.50293425, 0.30944547, 0.76404528],\n",
       "       [0.45230418, 0.59719065, 0.78955746, 0.24724284, 0.03389815],\n",
       "       [0.58776698, 0.35261424, 0.87416793, 0.29588839, 0.4528846 ],\n",
       "       [0.71858846, 0.85870664, 0.19180915, 0.27773233, 0.98635523],\n",
       "       [0.75054823, 0.20847849, 0.39908508, 0.09195954, 0.06296856]])"
      ]
     },
     "execution_count": 109,
     "metadata": {},
     "output_type": "execute_result"
    }
   ],
   "source": [
    "x=random.rand(5,5)\n",
    "x"
   ]
  },
  {
   "cell_type": "code",
   "execution_count": null,
   "id": "fa9e7a51",
   "metadata": {},
   "outputs": [
    {
     "data": {
      "text/plain": [
       "3"
      ]
     },
     "execution_count": 111,
     "metadata": {},
     "output_type": "execute_result"
    }
   ],
   "source": [
    "x = random.choice([3, 5, 7, 9])\n",
    "x\n"
   ]
  },
  {
   "cell_type": "markdown",
   "id": "7eeeb1e1",
   "metadata": {},
   "source": [
    "## Probabuility density function"
   ]
  },
  {
   "cell_type": "code",
   "execution_count": 120,
   "id": "efd9e840",
   "metadata": {},
   "outputs": [
    {
     "data": {
      "text/plain": [
       "array([[5, 4, 5, 5],\n",
       "       [3, 4, 4, 4],\n",
       "       [4, 3, 3, 5],\n",
       "       [4, 4, 4, 4]])"
      ]
     },
     "execution_count": 120,
     "metadata": {},
     "output_type": "execute_result"
    }
   ],
   "source": [
    "x=random.choice([3,4,5,6],p=[0.1,0.5,0.4,0.0],size=(4,4))\n",
    "x"
   ]
  },
  {
   "cell_type": "markdown",
   "id": "69e7cacf",
   "metadata": {},
   "source": [
    "## Random permutation -> shuffle and permutaution"
   ]
  },
  {
   "cell_type": "code",
   "execution_count": null,
   "id": "6cfd6caa",
   "metadata": {},
   "outputs": [
    {
     "data": {
      "text/plain": [
       "array([5, 2, 1, 3, 4])"
      ]
     },
     "execution_count": 124,
     "metadata": {},
     "output_type": "execute_result"
    }
   ],
   "source": [
    "arr = np.array([1, 2, 3, 4, 5])\n",
    "random.shuffle(arr)                 #change orignal array\n",
    "arr"
   ]
  },
  {
   "cell_type": "code",
   "execution_count": 131,
   "id": "6518ba1d",
   "metadata": {},
   "outputs": [
    {
     "name": "stdout",
     "output_type": "stream",
     "text": [
      "[1 4 2 5 3]\n",
      "[5 2 1 3 4]\n"
     ]
    }
   ],
   "source": [
    "print(random.permutation(arr))  #returns rearranged array but do not changes orignal array\n",
    "print(arr)"
   ]
  },
  {
   "cell_type": "markdown",
   "id": "714281eb",
   "metadata": {},
   "source": [
    "## Normal Distrubation- shape of bell "
   ]
  },
  {
   "cell_type": "code",
   "execution_count": 134,
   "id": "29baf103",
   "metadata": {},
   "outputs": [
    {
     "data": {
      "text/plain": [
       "array([[-1.35630378, -0.83994788,  0.94387756, -1.58220894, -0.2917517 ],\n",
       "       [ 0.03939075,  2.4329315 , -1.51143358, -0.98478461,  0.07521432],\n",
       "       [ 2.40492475, -1.00507943,  1.6220009 ,  1.08934216, -0.42550567],\n",
       "       [ 1.69491049, -0.49076434, -0.30074394,  0.80768424, -0.97398327]])"
      ]
     },
     "execution_count": 134,
     "metadata": {},
     "output_type": "execute_result"
    }
   ],
   "source": [
    "random.normal(size=(4,5))"
   ]
  },
  {
   "cell_type": "code",
   "execution_count": 136,
   "id": "51375426",
   "metadata": {},
   "outputs": [],
   "source": [
    "import matplotlib.pyplot as plt\n",
    "import seaborn as sns"
   ]
  },
  {
   "cell_type": "code",
   "execution_count": 141,
   "id": "24915e9a",
   "metadata": {},
   "outputs": [
    {
     "data": {
      "text/plain": [
       "<seaborn.axisgrid.FacetGrid at 0x1f51a790f70>"
      ]
     },
     "execution_count": 141,
     "metadata": {},
     "output_type": "execute_result"
    },
    {
     "data": {
      "image/png": "[encoded data removed]",
      "text/plain": [
       "<Figure size 500x500 with 1 Axes>"
      ]
     },
     "metadata": {},
     "output_type": "display_data"
    }
   ],
   "source": [
    "sns.displot(random.normal(size=1000),kind='kde')"
   ]
  },
  {
   "cell_type": "markdown",
   "id": "6e00fe17",
   "metadata": {},
   "source": [
    "## Binomial distributuion"
   ]
  },
  {
   "cell_type": "code",
   "execution_count": null,
   "id": "a4f4405c",
   "metadata": {},
   "outputs": [
    {
     "data": {
      "text/plain": [
       "array([[1, 1, 0],\n",
       "       [0, 0, 0],\n",
       "       [1, 1, 0]])"
      ]
     },
     "execution_count": 144,
     "metadata": {},
     "output_type": "execute_result"
    }
   ],
   "source": [
    "x=random.binomial(size=(3,3),p=0.5,n=1)\n",
    "x"
   ]
  },
  {
   "cell_type": "code",
   "execution_count": 153,
   "id": "dc951718",
   "metadata": {},
   "outputs": [
    {
     "data": {
      "text/plain": [
       "<seaborn.axisgrid.FacetGrid at 0x1f51bbda470>"
      ]
     },
     "execution_count": 153,
     "metadata": {},
     "output_type": "execute_result"
    },
    {
     "data": {
      "image/png": "[encoded data removed]",
      "text/plain": [
       "<Figure size 500x500 with 1 Axes>"
      ]
     },
     "metadata": {},
     "output_type": "display_data"
    }
   ],
   "source": [
    "sns.displot(random.binomial(size=1000,p=0.5,n=100),kind='kde')"
   ]
  },
  {
   "cell_type": "code",
   "execution_count": 154,
   "id": "cd10ebe5",
   "metadata": {},
   "outputs": [
    {
     "data": {
      "image/png": "[encoded data removed]",
      "text/plain": [
       "<Figure size 609.875x500 with 1 Axes>"
      ]
     },
     "metadata": {},
     "output_type": "display_data"
    }
   ],
   "source": [
    "data = {\n",
    "  \"normal\": random.normal(loc=50, scale=5, size=1000),\n",
    "  \"binomial\": random.binomial(n=100, p=0.5, size=1000)\n",
    "}\n",
    "\n",
    "sns.displot(data, kind=\"kde\")\n",
    "\n",
    "plt.show()"
   ]
  },
  {
   "cell_type": "markdown",
   "id": "2bc87357",
   "metadata": {},
   "source": [
    "## poission distributuion- how many times an event can happen in specidfied time"
   ]
  },
  {
   "cell_type": "code",
   "execution_count": 160,
   "id": "587f479b",
   "metadata": {},
   "outputs": [
    {
     "data": {
      "text/plain": [
       "array([2, 3, 2, 5, 5, 1, 2, 0, 4, 1])"
      ]
     },
     "execution_count": 160,
     "metadata": {},
     "output_type": "execute_result"
    }
   ],
   "source": [
    "x=random.poisson(lam=2,size=10)\n",
    "x"
   ]
  },
  {
   "cell_type": "code",
   "execution_count": 163,
   "id": "e427eda9",
   "metadata": {},
   "outputs": [
    {
     "data": {
      "text/plain": [
       "<seaborn.axisgrid.FacetGrid at 0x1f51bf33c40>"
      ]
     },
     "execution_count": 163,
     "metadata": {},
     "output_type": "execute_result"
    },
    {
     "data": {
      "image/png": "[encoded data removed]",
      "text/plain": [
       "<Figure size 500x500 with 1 Axes>"
      ]
     },
     "metadata": {},
     "output_type": "display_data"
    }
   ],
   "source": [
    "sns.displot(random.poisson(lam=10,size=1000),kind='kde')"
   ]
  },
  {
   "cell_type": "code",
   "execution_count": 166,
   "id": "b759f122",
   "metadata": {},
   "outputs": [
    {
     "data": {
      "text/plain": [
       "array([[0.80185274, 0.71144383, 0.12769433, 0.52236189],\n",
       "       [0.77198451, 0.68216303, 0.75747761, 0.02326176],\n",
       "       [0.3797983 , 0.13445325, 0.42652508, 0.587597  ]])"
      ]
     },
     "execution_count": 166,
     "metadata": {},
     "output_type": "execute_result"
    }
   ],
   "source": [
    "x=random.uniform(low=0,high=1,size=(3,4))\n",
    "x"
   ]
  },
  {
   "cell_type": "markdown",
   "id": "2e14dfc5",
   "metadata": {},
   "source": [
    "## Uniform distribution-> it is used when every event has equal chance of occuring"
   ]
  },
  {
   "cell_type": "code",
   "execution_count": 168,
   "id": "150e6e0f",
   "metadata": {},
   "outputs": [
    {
     "data": {
      "text/plain": [
       "<seaborn.axisgrid.FacetGrid at 0x1f51d1695a0>"
      ]
     },
     "execution_count": 168,
     "metadata": {},
     "output_type": "execute_result"
    },
    {
     "data": {
      "image/png": "[encoded data removed]",
      "text/plain": [
       "<Figure size 500x500 with 1 Axes>"
      ]
     },
     "metadata": {},
     "output_type": "display_data"
    }
   ],
   "source": [
    "sns.displot(random.uniform(low=0,high=1,size=1000),kind='kde')"
   ]
  },
  {
   "cell_type": "markdown",
   "id": "199ce331",
   "metadata": {},
   "source": [
    "## Logistic distribution "
   ]
  },
  {
   "cell_type": "code",
   "execution_count": 169,
   "id": "b0e60789",
   "metadata": {},
   "outputs": [
    {
     "name": "stdout",
     "output_type": "stream",
     "text": [
      "[[ 0.67893574  4.82319236  8.25470749]\n",
      " [-4.70540033  1.03866035  0.2660654 ]]\n"
     ]
    }
   ],
   "source": [
    "x = random.logistic(loc=1, scale=2, size=(2, 3))\n",
    "\n",
    "print(x)\n"
   ]
  },
  {
   "cell_type": "code",
   "execution_count": 173,
   "id": "93d08028",
   "metadata": {},
   "outputs": [
    {
     "data": {
      "text/plain": [
       "<seaborn.axisgrid.FacetGrid at 0x1f51d1e8c10>"
      ]
     },
     "execution_count": 173,
     "metadata": {},
     "output_type": "execute_result"
    },
    {
     "data": {
      "image/png": "[encoded data removed]",
      "text/plain": [
       "<Figure size 500x500 with 1 Axes>"
      ]
     },
     "metadata": {},
     "output_type": "display_data"
    }
   ],
   "source": [
    "sns.displot(random.logistic(loc=1, scale=10, size=1000), kind='kde')\n"
   ]
  },
  {
   "cell_type": "markdown",
   "id": "3e9a35cc",
   "metadata": {},
   "source": [
    "## Exponential distributin"
   ]
  },
  {
   "cell_type": "code",
   "execution_count": 177,
   "id": "e6ba2de8",
   "metadata": {},
   "outputs": [
    {
     "data": {
      "text/plain": [
       "array([[0.11402387, 0.96354679, 3.31786169, 2.04140848],\n",
       "       [0.25359771, 0.44468162, 0.76383409, 1.69351082],\n",
       "       [1.27551399, 1.34315376, 2.63917807, 0.9519357 ]])"
      ]
     },
     "execution_count": 177,
     "metadata": {},
     "output_type": "execute_result"
    }
   ],
   "source": [
    "x=random.exponential(scale=2,size=(3,4))\n",
    "x"
   ]
  },
  {
   "cell_type": "code",
   "execution_count": 180,
   "id": "134f703c",
   "metadata": {},
   "outputs": [
    {
     "data": {
      "text/plain": [
       "<seaborn.axisgrid.FacetGrid at 0x1f51d295960>"
      ]
     },
     "execution_count": 180,
     "metadata": {},
     "output_type": "execute_result"
    },
    {
     "data": {
      "image/png": "[encoded data removed]",
      "text/plain": [
       "<Figure size 500x500 with 1 Axes>"
      ]
     },
     "metadata": {},
     "output_type": "display_data"
    }
   ],
   "source": [
    "sns.displot(random.exponential(scale=10,size=10000),kind='kde')"
   ]
  },
  {
   "cell_type": "markdown",
   "id": "dc12a800",
   "metadata": {},
   "source": [
    "## chi square distributuon-> used verify the hypothesis "
   ]
  },
  {
   "cell_type": "code",
   "execution_count": 181,
   "id": "d68094f1",
   "metadata": {},
   "outputs": [
    {
     "name": "stdout",
     "output_type": "stream",
     "text": [
      "[[2.8306157  0.41246312 0.38752563]\n",
      " [1.07627747 3.15431024 1.53398403]]\n"
     ]
    }
   ],
   "source": [
    "x = random.chisquare(df=2, size=(2, 3))\n",
    "\n",
    "print(x)"
   ]
  },
  {
   "cell_type": "code",
   "execution_count": 184,
   "id": "79e53662",
   "metadata": {},
   "outputs": [
    {
     "data": {
      "text/plain": [
       "<seaborn.axisgrid.FacetGrid at 0x1f51e36b2e0>"
      ]
     },
     "execution_count": 184,
     "metadata": {},
     "output_type": "execute_result"
    },
    {
     "data": {
      "image/png": "[encoded data removed]",
      "text/plain": [
       "<Figure size 500x500 with 1 Axes>"
      ]
     },
     "metadata": {},
     "output_type": "display_data"
    }
   ],
   "source": [
    "sns.displot(random.chisquare(df=1,size=10000),kind='kde')"
   ]
  },
  {
   "cell_type": "markdown",
   "id": "199a8470",
   "metadata": {},
   "source": [
    "## Reigh Distribution\n",
    "Rayleigh distribution is used in signal processing."
   ]
  },
  {
   "cell_type": "markdown",
   "id": "4a9d6413",
   "metadata": {},
   "source": [
    "# Ufun ---> universal function"
   ]
  },
  {
   "cell_type": "code",
   "execution_count": 185,
   "id": "9b427808",
   "metadata": {},
   "outputs": [
    {
     "data": {
      "text/plain": [
       "array([ 6,  8, 10, 12])"
      ]
     },
     "execution_count": 185,
     "metadata": {},
     "output_type": "execute_result"
    }
   ],
   "source": [
    "a=np.array([1,2,3,4])\n",
    "b=np.array([5,6,7,8])\n",
    "x=np.add(a,b)\n",
    "x"
   ]
  },
  {
   "cell_type": "markdown",
   "id": "5450c86b",
   "metadata": {},
   "source": [
    "## Create own you funvtion in numpy"
   ]
  },
  {
   "cell_type": "code",
   "execution_count": 187,
   "id": "5b84b505",
   "metadata": {},
   "outputs": [],
   "source": [
    "#create a normal function\n",
    "def myadd(a,b):\n",
    "    return a+b\n",
    "#add in np using frompyfunc\n",
    "myadd=np.frompyfunc(myadd,2,1)\n"
   ]
  },
  {
   "cell_type": "code",
   "execution_count": 188,
   "id": "8bc66642",
   "metadata": {},
   "outputs": [
    {
     "data": {
      "text/plain": [
       "array([6, 8, 10, 12], dtype=object)"
      ]
     },
     "execution_count": 188,
     "metadata": {},
     "output_type": "execute_result"
    }
   ],
   "source": [
    "myadd([1,2,3,4],[5,6,7,8])"
   ]
  },
  {
   "cell_type": "code",
   "execution_count": 189,
   "id": "c443979d",
   "metadata": {},
   "outputs": [
    {
     "name": "stdout",
     "output_type": "stream",
     "text": [
      "<class 'numpy.ufunc'>\n"
     ]
    }
   ],
   "source": [
    "print(type(np.add))\n"
   ]
  },
  {
   "cell_type": "code",
   "execution_count": 190,
   "id": "525f1863",
   "metadata": {},
   "outputs": [
    {
     "data": {
      "text/plain": [
       "numpy._ArrayFunctionDispatcher"
      ]
     },
     "execution_count": 190,
     "metadata": {},
     "output_type": "execute_result"
    }
   ],
   "source": [
    "type(np.concatenate)"
   ]
  },
  {
   "cell_type": "markdown",
   "id": "7d0f6312",
   "metadata": {},
   "source": [
    "## we can use multiply,add ,substract, mod,moddiv,abs,log2,log10,log etc"
   ]
  },
  {
   "cell_type": "markdown",
   "id": "97a7cbc7",
   "metadata": {},
   "source": [
    "## Rounding off in np"
   ]
  },
  {
   "cell_type": "code",
   "execution_count": 191,
   "id": "5ae1f284",
   "metadata": {},
   "outputs": [
    {
     "name": "stdout",
     "output_type": "stream",
     "text": [
      "[-3.  3.]\n"
     ]
    }
   ],
   "source": [
    "arr = np.trunc([-3.1666, 3.6667])\n",
    "\n",
    "print(arr)"
   ]
  },
  {
   "cell_type": "code",
   "execution_count": 192,
   "id": "c48c548c",
   "metadata": {},
   "outputs": [
    {
     "name": "stdout",
     "output_type": "stream",
     "text": [
      "3.17\n"
     ]
    }
   ],
   "source": [
    "arr = np.around(3.1666, 2)\n",
    "\n",
    "print(arr)"
   ]
  },
  {
   "cell_type": "code",
   "execution_count": 193,
   "id": "be68b9b9",
   "metadata": {},
   "outputs": [
    {
     "name": "stdout",
     "output_type": "stream",
     "text": [
      "[-4.  3.]\n"
     ]
    }
   ],
   "source": [
    "arr = np.floor([-3.1666, 3.6667])\n",
    "\n",
    "print(arr)"
   ]
  },
  {
   "cell_type": "markdown",
   "id": "1b739bec",
   "metadata": {},
   "source": [
    "# Summation and commulative sum"
   ]
  },
  {
   "cell_type": "code",
   "execution_count": 196,
   "id": "d30ab6c3",
   "metadata": {},
   "outputs": [
    {
     "data": {
      "text/plain": [
       "36"
      ]
     },
     "execution_count": 196,
     "metadata": {},
     "output_type": "execute_result"
    }
   ],
   "source": [
    "a=np.array([1,2,3,4])\n",
    "b=np.array([5,6,7,8])\n",
    "x=np.sum([a,b])\n",
    "x"
   ]
  },
  {
   "cell_type": "code",
   "execution_count": 198,
   "id": "a6970b99",
   "metadata": {},
   "outputs": [
    {
     "data": {
      "text/plain": [
       "array([36])"
      ]
     },
     "execution_count": 198,
     "metadata": {},
     "output_type": "execute_result"
    }
   ],
   "source": [
    "y=np.cumsum(x)\n",
    "y"
   ]
  },
  {
   "cell_type": "code",
   "execution_count": 199,
   "id": "005c42e4",
   "metadata": {},
   "outputs": [
    {
     "data": {
      "text/plain": [
       "120"
      ]
     },
     "execution_count": 199,
     "metadata": {},
     "output_type": "execute_result"
    }
   ],
   "source": [
    "np.prod([2,3,4,5])"
   ]
  },
  {
   "cell_type": "code",
   "execution_count": 201,
   "id": "0cfed70e",
   "metadata": {},
   "outputs": [
    {
     "data": {
      "text/plain": [
       "array([  5,  10, -20])"
      ]
     },
     "execution_count": 201,
     "metadata": {},
     "output_type": "execute_result"
    }
   ],
   "source": [
    "arr = np.array([10, 15, 25, 5])\n",
    "\n",
    "newarr = np.diff(arr)\n",
    "\n",
    "newarr"
   ]
  },
  {
   "cell_type": "code",
   "execution_count": 202,
   "id": "8cc79df9",
   "metadata": {},
   "outputs": [
    {
     "data": {
      "text/plain": [
       "array([  5, -30])"
      ]
     },
     "execution_count": 202,
     "metadata": {},
     "output_type": "execute_result"
    }
   ],
   "source": [
    "arr = np.array([10, 15, 25, 5])\n",
    "\n",
    "newarr = np.diff(arr, n=2)\n",
    "\n",
    "newarr"
   ]
  },
  {
   "cell_type": "code",
   "execution_count": 204,
   "id": "6f3d2a98",
   "metadata": {},
   "outputs": [
    {
     "name": "stdout",
     "output_type": "stream",
     "text": [
      "2520\n"
     ]
    }
   ],
   "source": [
    "arr = np.arange(1, 11)\n",
    "\n",
    "x = np.lcm.reduce(arr)\n",
    "\n",
    "print(x)"
   ]
  },
  {
   "cell_type": "code",
   "execution_count": 207,
   "id": "f5937262",
   "metadata": {},
   "outputs": [
    {
     "data": {
      "text/plain": [
       "12"
      ]
     },
     "execution_count": 207,
     "metadata": {},
     "output_type": "execute_result"
    }
   ],
   "source": [
    "np.lcm(3,4)"
   ]
  },
  {
   "cell_type": "code",
   "execution_count": 208,
   "id": "e831572e",
   "metadata": {},
   "outputs": [
    {
     "name": "stdout",
     "output_type": "stream",
     "text": [
      "3\n"
     ]
    }
   ],
   "source": [
    "num1 = 6\n",
    "num2 = 9\n",
    "\n",
    "x = np.gcd(num1, num2)\n",
    "\n",
    "print(x)"
   ]
  },
  {
   "cell_type": "code",
   "execution_count": 209,
   "id": "b82e5ae9",
   "metadata": {},
   "outputs": [
    {
     "name": "stdout",
     "output_type": "stream",
     "text": [
      "[1 3 5 7]\n"
     ]
    }
   ],
   "source": [
    "arr = np.array([1,2,3,4,5,6,7])\n",
    "\n",
    "print(arr[::2])  "
   ]
  },
  {
   "cell_type": "code",
   "execution_count": null,
   "id": "25193ac8",
   "metadata": {},
   "outputs": [],
   "source": []
  }
 ],
 "metadata": {
  "kernelspec": {
   "display_name": "base",
   "language": "python",
   "name": "python3"
  },
  "language_info": {
   "codemirror_mode": {
    "name": "ipython",
    "version": 3
   },
   "file_extension": ".py",
   "mimetype": "text/x-python",
   "name": "python",
   "nbconvert_exporter": "python",
   "pygments_lexer": "ipython3",
   "version": "3.10.9"
  }
 },
 "nbformat": 4,
 "nbformat_minor": 5
}
